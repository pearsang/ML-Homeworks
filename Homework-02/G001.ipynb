{
 "cells": [
  {
   "cell_type": "markdown",
   "metadata": {},
   "source": [
    "# Homework 02 - Programming and critical analysis (ist1102082, ist1103252)"
   ]
  },
  {
   "cell_type": "markdown",
   "metadata": {},
   "source": [
    "# Exercise 1 a."
   ]
  },
  {
   "cell_type": "markdown",
   "metadata": {},
   "source": [
    "Loading the data from the arff file and converting it into a dataframe"
   ]
  },
  {
   "cell_type": "code",
   "execution_count": 13,
   "metadata": {},
   "outputs": [
    {
     "data": {
      "text/html": [
       "<div>\n",
       "<style scoped>\n",
       "    .dataframe tbody tr th:only-of-type {\n",
       "        vertical-align: middle;\n",
       "    }\n",
       "\n",
       "    .dataframe tbody tr th {\n",
       "        vertical-align: top;\n",
       "    }\n",
       "\n",
       "    .dataframe thead th {\n",
       "        text-align: right;\n",
       "    }\n",
       "</style>\n",
       "<table border=\"1\" class=\"dataframe\">\n",
       "  <thead>\n",
       "    <tr style=\"text-align: right;\">\n",
       "      <th></th>\n",
       "      <th>pelvic_incidence</th>\n",
       "      <th>pelvic_tilt</th>\n",
       "      <th>lumbar_lordosis_angle</th>\n",
       "      <th>sacral_slope</th>\n",
       "      <th>pelvic_radius</th>\n",
       "      <th>degree_spondylolisthesis</th>\n",
       "      <th>class</th>\n",
       "    </tr>\n",
       "  </thead>\n",
       "  <tbody>\n",
       "    <tr>\n",
       "      <th>0</th>\n",
       "      <td>63.027817</td>\n",
       "      <td>22.552586</td>\n",
       "      <td>39.609117</td>\n",
       "      <td>40.475232</td>\n",
       "      <td>98.672917</td>\n",
       "      <td>-0.254400</td>\n",
       "      <td>Hernia</td>\n",
       "    </tr>\n",
       "    <tr>\n",
       "      <th>1</th>\n",
       "      <td>39.056951</td>\n",
       "      <td>10.060991</td>\n",
       "      <td>25.015378</td>\n",
       "      <td>28.995960</td>\n",
       "      <td>114.405425</td>\n",
       "      <td>4.564259</td>\n",
       "      <td>Hernia</td>\n",
       "    </tr>\n",
       "    <tr>\n",
       "      <th>2</th>\n",
       "      <td>68.832021</td>\n",
       "      <td>22.218482</td>\n",
       "      <td>50.092194</td>\n",
       "      <td>46.613539</td>\n",
       "      <td>105.985135</td>\n",
       "      <td>-3.530317</td>\n",
       "      <td>Hernia</td>\n",
       "    </tr>\n",
       "    <tr>\n",
       "      <th>3</th>\n",
       "      <td>69.297008</td>\n",
       "      <td>24.652878</td>\n",
       "      <td>44.311238</td>\n",
       "      <td>44.644130</td>\n",
       "      <td>101.868495</td>\n",
       "      <td>11.211523</td>\n",
       "      <td>Hernia</td>\n",
       "    </tr>\n",
       "    <tr>\n",
       "      <th>4</th>\n",
       "      <td>49.712859</td>\n",
       "      <td>9.652075</td>\n",
       "      <td>28.317406</td>\n",
       "      <td>40.060784</td>\n",
       "      <td>108.168725</td>\n",
       "      <td>7.918501</td>\n",
       "      <td>Hernia</td>\n",
       "    </tr>\n",
       "  </tbody>\n",
       "</table>\n",
       "</div>"
      ],
      "text/plain": [
       "   pelvic_incidence  pelvic_tilt  lumbar_lordosis_angle  sacral_slope  \\\n",
       "0         63.027817    22.552586              39.609117     40.475232   \n",
       "1         39.056951    10.060991              25.015378     28.995960   \n",
       "2         68.832021    22.218482              50.092194     46.613539   \n",
       "3         69.297008    24.652878              44.311238     44.644130   \n",
       "4         49.712859     9.652075              28.317406     40.060784   \n",
       "\n",
       "   pelvic_radius  degree_spondylolisthesis   class  \n",
       "0      98.672917                 -0.254400  Hernia  \n",
       "1     114.405425                  4.564259  Hernia  \n",
       "2     105.985135                 -3.530317  Hernia  \n",
       "3     101.868495                 11.211523  Hernia  \n",
       "4     108.168725                  7.918501  Hernia  "
      ]
     },
     "execution_count": 13,
     "metadata": {},
     "output_type": "execute_result"
    }
   ],
   "source": [
    "from scipy.io.arff import loadarff\n",
    "import pandas as pd\n",
    "\n",
    "# Load the data\n",
    "data = loadarff('./column_diagnosis.arff')\n",
    "df = pd.DataFrame(data[0])\n",
    "df['class'] = df['class'].str.decode('utf-8')\n",
    "df.head()"
   ]
  },
  {
   "cell_type": "markdown",
   "metadata": {},
   "source": [
    "Separating the input data and the output data, required for some sklean functions"
   ]
  },
  {
   "cell_type": "code",
   "execution_count": 14,
   "metadata": {},
   "outputs": [],
   "source": [
    "x = df.drop('class', axis=1)\n",
    "y = df['class']"
   ]
  },
  {
   "cell_type": "markdown",
   "metadata": {},
   "source": [
    "First, we will apply a 10-fold stratified cross-validation with shuffling for the \n",
    "assessment of predictive models."
   ]
  },
  {
   "cell_type": "code",
   "execution_count": 15,
   "metadata": {},
   "outputs": [],
   "source": [
    "import numpy as np\n",
    "import matplotlib.pyplot as plt\n",
    "from sklearn.datasets import fetch_openml\n",
    "from sklearn.model_selection import cross_val_score, StratifiedKFold\n",
    "from sklearn.neighbors import KNeighborsClassifier\n",
    "from sklearn.naive_bayes import GaussianNB\n",
    "from scipy import stats\n",
    "\n",
    "# Create 10-fold stratified cross-validation with shuffling\n",
    "cv = StratifiedKFold(n_splits=10, shuffle=True, random_state=0)\n"
   ]
  },
  {
   "cell_type": "markdown",
   "metadata": {},
   "source": [
    "We will be comparing the performance of KNN with K =5 and naïve Bayes with Gaussian assumption. "
   ]
  },
  {
   "cell_type": "code",
   "execution_count": 16,
   "metadata": {},
   "outputs": [],
   "source": [
    "# Create classifiers\n",
    "knn_classifier = KNeighborsClassifier(n_neighbors=5)\n",
    "nb_classifier = GaussianNB()"
   ]
  },
  {
   "cell_type": "markdown",
   "metadata": {},
   "source": [
    "Then, we will perform cross-validation for both the models."
   ]
  },
  {
   "cell_type": "code",
   "execution_count": 17,
   "metadata": {},
   "outputs": [
    {
     "name": "stdout",
     "output_type": "stream",
     "text": [
      "knn_scores: [0.93548387 0.80645161 0.87096774 0.93548387 0.74193548 0.87096774\n",
      " 0.83870968 0.83870968 0.77419355 0.77419355]\n",
      "nb_scores [0.83870968 0.87096774 0.83870968 0.87096774 0.77419355 0.83870968\n",
      " 0.90322581 0.80645161 0.77419355 0.70967742]\n"
     ]
    }
   ],
   "source": [
    "# Perform cross-validation and get accuracies for k-NN and Naive Bayes\n",
    "knn_scores = cross_val_score(knn_classifier, x, y, cv=cv)\n",
    "print(\"knn_scores:\", knn_scores)\n",
    "nb_scores = cross_val_score(nb_classifier, x, y, cv=cv)\n",
    "print(\"nb_scores\", nb_scores)"
   ]
  },
  {
   "cell_type": "markdown",
   "metadata": {},
   "source": [
    "Having the scores for both the models, we will compare them using two boxplots with the fold accuracies for each classifier."
   ]
  },
  {
   "cell_type": "code",
   "execution_count": 18,
   "metadata": {},
   "outputs": [
    {
     "data": {
      "image/png": "[encoded data removed]",
      "text/plain": [
       "<Figure size 640x480 with 1 Axes>"
      ]
     },
     "metadata": {},
     "output_type": "display_data"
    }
   ],
   "source": [
    "# Plot boxplots for fold accuracies\n",
    "plt.boxplot([knn_scores, nb_scores], labels=['k-NN', 'Naive Bayes'])\n",
    "plt.title('KNN vs Naive Bayes using 10-fold cross-validation')\n",
    "plt.ylabel('Accuracy')\n",
    "plt.show()"
   ]
  },
  {
   "cell_type": "markdown",
   "metadata": {},
   "source": [
    "# Exercise 1 b."
   ]
  },
  {
   "cell_type": "markdown",
   "metadata": {},
   "source": [
    "To compare the two classifiers, we will perform a statistical test."
   ]
  },
  {
   "cell_type": "code",
   "execution_count": 19,
   "metadata": {},
   "outputs": [
    {
     "name": "stdout",
     "output_type": "stream",
     "text": [
      "t_statistic: 0.9214426752509264\n",
      "p_value: 0.19042809062064092\n",
      "Fail to reject null hypothesis: No statistical difference between KNN and Naive Bayes\n"
     ]
    }
   ],
   "source": [
    "# Perform a statistical test to compare the two classifiers\n",
    "t_statistic , p_value = stats.ttest_rel(knn_scores, nb_scores, alternative='greater')\n",
    "\n",
    "# Define a significance level (default value of 0.05)\n",
    "alpha = 0.05\n",
    "\n",
    "# Check if k-NN is statistically superior to Naive Bayes\n",
    "if p_value < alpha:\n",
    "    print(\"Reject null hypothesis: k-NN is statistically superior to Naive Bayes regarding accuracy\")\n",
    "else:\n",
    "    print(\"Fail to reject null hypothesis: No statistical difference between KNN and Naive Bayes\")"
   ]
  },
  {
   "cell_type": "markdown",
   "metadata": {},
   "source": [
    "# Exercise 2"
   ]
  },
  {
   "cell_type": "markdown",
   "metadata": {},
   "source": [
    "First, similar to the previous exercise, we will apply a 10-fold stratified cross-validation with shuffling for the assessment of predictive models. Also, we will be instantiating a KNN classifier with K = 5 and one with K=1."
   ]
  },
  {
   "cell_type": "code",
   "execution_count": 20,
   "metadata": {},
   "outputs": [],
   "source": [
    "import numpy as np\n",
    "import matplotlib.pyplot as plt\n",
    "from sklearn.datasets import fetch_openml\n",
    "from sklearn.model_selection import train_test_split\n",
    "from sklearn.neighbors import KNeighborsClassifier\n",
    "from sklearn.metrics import confusion_matrix\n",
    "\n",
    "# Initialize stratified k-fold cross-validation with shuffling\n",
    "kf = StratifiedKFold(n_splits=10, shuffle=True, random_state=0)\n",
    "\n",
    "# Initialize k-NN classifiers with k=1 and k=5\n",
    "knn1 = KNeighborsClassifier(n_neighbors=1)\n",
    "knn5 = KNeighborsClassifier(n_neighbors=5)"
   ]
  },
  {
   "cell_type": "markdown",
   "metadata": {},
   "source": [
    "Then, we will initialize cumulative confusion matrices for both the classifiers, starting with all zeros for each cell."
   ]
  },
  {
   "cell_type": "code",
   "execution_count": 21,
   "metadata": {},
   "outputs": [],
   "source": [
    "# Initialize cumulative confusion matrices for both classifiers\n",
    "cumulative_cm1 = np.zeros((3, 3))\n",
    "cumulative_cm5 = np.zeros((3, 3))"
   ]
  },
  {
   "cell_type": "markdown",
   "metadata": {},
   "source": [
    "Now, we will perform cross-validation for both the models and update the confusion matrices for each fold."
   ]
  },
  {
   "cell_type": "code",
   "execution_count": 22,
   "metadata": {},
   "outputs": [],
   "source": [
    "\n",
    "# Perform cross-validation\n",
    "for train_index, test_index in kf.split(x, y):\n",
    "    X_train, X_test = x.values[train_index], x.values[test_index]\n",
    "    y_train, y_test = y.values[train_index], y.values[test_index]\n",
    "    \n",
    "    # Fit k-NN classifiers\n",
    "    knn1.fit(X_train, y_train)\n",
    "    knn5.fit(X_train, y_train)\n",
    "    \n",
    "    # Make predictions\n",
    "    y_pred1 = knn1.predict(X_test)\n",
    "    y_pred5 = knn5.predict(X_test)\n",
    "    \n",
    "    # Calculate confusion matrices\n",
    "    cm1 = confusion_matrix(y_test, y_pred1)\n",
    "    cm5 = confusion_matrix(y_test, y_pred5)\n",
    "    \n",
    "    # Update cumulative confusion matrices\n",
    "    cumulative_cm1 += cm1\n",
    "    cumulative_cm5 += cm5"
   ]
  },
  {
   "cell_type": "markdown",
   "metadata": {},
   "source": [
    "Plotting the difference between the two cumulative confusion matrices, we will be able to see the difference between the two classifiers."
   ]
  },
  {
   "cell_type": "code",
   "execution_count": 23,
   "metadata": {},
   "outputs": [
    {
     "data": {
      "image/png": "[encoded data removed]",
      "text/plain": [
       "<Figure size 800x600 with 2 Axes>"
      ]
     },
     "metadata": {},
     "output_type": "display_data"
    }
   ],
   "source": [
    "diff_cm = cumulative_cm1 - cumulative_cm5\n",
    "\n",
    "plt.figure(figsize=(8, 6))\n",
    "plt.imshow(diff_cm, cmap='coolwarm', interpolation='nearest')\n",
    "plt.colorbar(label='Difference')\n",
    "plt.title('Cumulative Confusion Matrix Difference (k=1 - k=5)')\n",
    "plt.xlabel('Predicted Labels')\n",
    "plt.ylabel('True Labels')\n",
    "\n",
    "classes = (df['class'].unique())\n",
    "classes.sort()\n",
    "\n",
    "plt.xticks(np.arange(len(classes)), classes, rotation=90)\n",
    "plt.yticks(np.arange(len(classes)), classes)\n",
    "plt.tight_layout()\n",
    "plt.show()"
   ]
  },
  {
   "cell_type": "markdown",
   "metadata": {},
   "source": [
    "For reference, these are the confusion matrices for K=1, K=5 and the difference respectively."
   ]
  },
  {
   "cell_type": "code",
   "execution_count": 24,
   "metadata": {},
   "outputs": [
    {
     "name": "stdout",
     "output_type": "stream",
     "text": [
      "Cumulative Confusion Matrix (k=1):\n",
      " [[ 37.  23.   0.]\n",
      " [ 14.  80.   6.]\n",
      " [  1.   7. 142.]]\n",
      "\n",
      "Cumulative Confusion Matrix (k=5):\n",
      " [[ 39.  21.   0.]\n",
      " [ 19.  78.   3.]\n",
      " [  1.   6. 143.]]\n",
      "\n",
      "Cumulative Confusion Matrix Difference (k=1 - k=5):\n",
      " [[-2.  2.  0.]\n",
      " [-5.  2.  3.]\n",
      " [ 0.  1. -1.]]\n"
     ]
    }
   ],
   "source": [
    "print(\"Cumulative Confusion Matrix (k=1):\\n\", cumulative_cm1)\n",
    "print(\"\\nCumulative Confusion Matrix (k=5):\\n\", cumulative_cm5)\n",
    "print(\"\\nCumulative Confusion Matrix Difference (k=1 - k=5):\\n\", diff_cm)"
   ]
  },
  {
   "cell_type": "markdown",
   "metadata": {},
   "source": [
    "The model with K=1 is more sensitive to the training data, since it only uses the nearest neighbor to classify the data. Thus, it's also more prone to overfitting, which is why it is less accurate when it comes to the test data.\n",
    "\n",
    "The model with K=5 is more robust to the training data, since it uses the 5 nearest neighbors to classify the data. Thus, it's also less prone to overfitting, which is why it is more accurate when it comes to the test data. We can also notice that this model is more accurate when it comes to diagnose patients with Spondylolisthesis class than the KNN with K=1.\n",
    "\n",
    "Taking in consideration our dataset, in a medical context, the worst case scenario is when a patient is diagosed as Normal whilst carrying a disease. By analysing our difference confusion matrix,  we can conclude that such scenario is more likely to happen with the KNN with K=1 than with the KNN with K=5. Thus we can conclude, that within this context, the KNN with K=5 is a more promising classifier than the KNN with K=1."
   ]
  },
  {
   "cell_type": "markdown",
   "metadata": {},
   "source": [
    "# Exercise 3"
   ]
  },
  {
   "cell_type": "markdown",
   "metadata": {},
   "source": [
    "- The ´column_diagnosis´ represents whether a patient has a medical condition (Spondylolisthesis or Hernia classes), or not (Normal class). In this case, the dataset has signs of some class imbalance, with only 60 observations of Hernia compared to 151 of Spondylolisthesis and 100 of Normal). Naïve Bayes might struggle to correctly classify positive cases due to the lack of sufficient training examples.\n",
    "  \n",
    "- The dataset includes various medical measurements. It can happen that some features might be strongly correlated (for example, three different features are pelvic related). Naïve Bayes assumes independence between features, so it might not capture this correlation effectively, potentially leading to suboptimal predictions, especially when both features are relevant to the diagnosis.\n",
    "\n",
    "- Naïve Bayes is well-suited for categorical data, but it can struggle with continuous or numerical data. Since our dataset contains continuous values, this can cause some difficulties for Naïve Bayes. Other algorithms, like Gaussian Naïve Bayes (used in exercise 1.), can handle continuous data more easily."
   ]
  }
 ],
 "metadata": {
  "kernelspec": {
   "display_name": "venv",
   "language": "python",
   "name": "python3"
  },
  "language_info": {
   "codemirror_mode": {
    "name": "ipython",
    "version": 3
   },
   "file_extension": ".py",
   "mimetype": "text/x-python",
   "name": "python",
   "nbconvert_exporter": "python",
   "pygments_lexer": "ipython3",
   "version": "3.11.5"
  },
  "orig_nbformat": 4
 },
 "nbformat": 4,
 "nbformat_minor": 2
}
