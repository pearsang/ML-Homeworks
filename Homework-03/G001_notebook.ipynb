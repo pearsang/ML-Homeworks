{
 "cells": [
  {
   "cell_type": "markdown",
   "metadata": {},
   "source": [
    "# Homework 03 - Programming and critical analysis (ist1102082, ist1103252)\n"
   ]
  },
  {
   "cell_type": "markdown",
   "metadata": {},
   "source": [
    "# Exercise 1"
   ]
  },
  {
   "cell_type": "markdown",
   "metadata": {},
   "source": [
    "Loading the data from the csv file and converting it into a dataframe"
   ]
  },
  {
   "cell_type": "code",
   "execution_count": 31,
   "metadata": {},
   "outputs": [],
   "source": [
    "# Import necessary libraries\n",
    "import pandas as pd\n",
    "import numpy as np\n",
    "import matplotlib.pyplot as plt\n",
    "from sklearn.model_selection import train_test_split\n",
    "from sklearn.neural_network import MLPRegressor\n",
    "from sklearn.metrics import mean_absolute_error\n",
    "import warnings\n",
    "warnings.filterwarnings('ignore')\n",
    "\n",
    "df = pd.read_csv('winequality-red.csv', sep=';')\n",
    "df.head()\n",
    "\n",
    "X = df.drop('quality', axis=1)\n",
    "y = df['quality']"
   ]
  },
  {
   "cell_type": "markdown",
   "metadata": {},
   "source": [
    "Perform a Multi Layer Perceptron Regression using the given parameters"
   ]
  },
  {
   "cell_type": "code",
   "execution_count": 32,
   "metadata": {},
   "outputs": [],
   "source": [
    "# Set the MLPRegressor parameters\n",
    "activation = \"relu\"  # Rectified Linear Unit (ReLU) activation\n",
    "hidden_layer_sizes = (10, 10)  # Two hidden layers with 10 neurons each\n",
    "validation_fraction = 0.2  # Use 20% of the training data for validation\n",
    "residuals = []\n",
    "\n",
    "# Split the dataset into a training and test set with a fixed seed\n",
    "X_train, X_test, y_train, y_test = train_test_split(\n",
    "    X, y, test_size=0.2, random_state=0)\n",
    "\n",
    "# Perform 10 runs with different random states and collect residuals\n",
    "for random_state in range(1, 11):\n",
    "    # Create an MLP Regressor with the specified parameters\n",
    "    mlp_regressor = MLPRegressor(hidden_layer_sizes=hidden_layer_sizes, activation=activation,\n",
    "                                 validation_fraction=validation_fraction, random_state=random_state, early_stopping=True)\n",
    "\n",
    "    # Train the MLP regressor\n",
    "    mlp_regressor.fit(X_train, y_train)\n",
    "\n",
    "    # Make predictions\n",
    "    y_pred = mlp_regressor.predict(X_test)\n",
    "\n",
    "    # Calculate residuals (absolute errors)\n",
    "    residuals.extend(np.abs(y_test - y_pred))"
   ]
  },
  {
   "cell_type": "markdown",
   "metadata": {},
   "source": [
    "##### Plot the distribution of residuals using a histogram"
   ]
  },
  {
   "cell_type": "code",
   "execution_count": 33,
   "metadata": {},
   "outputs": [
    {
     "data": {
      "image/png": "[encoded data removed]",
      "text/plain": [
       "<Figure size 640x480 with 1 Axes>"
      ]
     },
     "metadata": {},
     "output_type": "display_data"
    }
   ],
   "source": [
    "# Plot the distribution of residuals using a histogram\n",
    "plt.hist(residuals, bins=32, edgecolor='black', color='red')\n",
    "plt.title(\"Distribution of the Absolute Residues\")\n",
    "plt.xlabel(\"Residues (Absolute Value)\")\n",
    "plt.ylabel(\"Frequency\")\n",
    "plt.show()"
   ]
  },
  {
   "cell_type": "markdown",
   "metadata": {},
   "source": [
    "# Exercise 2"
   ]
  },
  {
   "cell_type": "markdown",
   "metadata": {},
   "source": [
    "We will perform the regression again with the same parameters, but we will calculate the MAE (Mean Absolute Error) with and without rounding and bounding. For the bounds we have decided to go within an interval of (5, 6) and we will round to one decimal place."
   ]
  },
  {
   "cell_type": "code",
   "execution_count": 34,
   "metadata": {},
   "outputs": [
    {
     "name": "stdout",
     "output_type": "stream",
     "text": [
      "Average MAE without rounding and bounding: 0.5097171955009515\n",
      "Average MAE with rounding and bounding:  0.42124999999999996\n"
     ]
    }
   ],
   "source": [
    "mae_round_bound = []    # Mean absolute error rounded and bounded\n",
    "mae = []                # Mean absolute error without rounding and bounding\n",
    "\n",
    "\n",
    "# Split the dataset into a training and test set with a fixed seed\n",
    "X_train, X_test, y_train, y_test = train_test_split(\n",
    "    X, y, test_size=0.2, random_state=0)\n",
    "\n",
    "# Perform 10 runs with different random states and collect residuals\n",
    "for random_state in range(1, 11):\n",
    "\n",
    "    # Create an MLP Regressor with the specified parameters\n",
    "    mlp_regressor = MLPRegressor(hidden_layer_sizes=(10, 10), activation=\"relu\",\n",
    "                                 validation_fraction=0.2, random_state=random_state,\n",
    "                                 early_stopping=True)\n",
    "\n",
    "    # Train the MLP regressor\n",
    "    mlp_regressor.fit(X_train, y_train)\n",
    "\n",
    "    mae.append(mean_absolute_error(y_test, y_pred))\n",
    "\n",
    "    # Round and Bound\n",
    "    round_pred = np.round(y_pred)\n",
    "    y_pred_round_bound = np.clip(round_pred, 5, 6)\n",
    "    mae_round_bound.append(mean_absolute_error(y_test, y_pred_round_bound))\n",
    "\n",
    "    # Make predictions\n",
    "    y_pred = mlp_regressor.predict(X_test)\n",
    "\n",
    "    # Calculate residuals (absolute errors)\n",
    "    residuals.extend(np.abs(y_test - y_pred))\n",
    "\n",
    "print(\"Average MAE without rounding and bounding:\", np.mean(mae))\n",
    "print(\"Average MAE with rounding and bounding: \", np.mean(mae_round_bound))"
   ]
  },
  {
   "cell_type": "markdown",
   "metadata": {},
   "source": [
    "\n",
    "As we can observe, the MAE is lower when we round and bound the values. By rounding the predictions to the nearest integer, we are now conforming the model's outputs to the problem's requirement. This can lead to more accurate predictions and thus lower MAE because the predictions align with the target variable's nature.Furthermore, bounding the values eliminates outliers that may be present in the data. This can also lead to more accurate predictions and thus lower MAE. \n",
    "\n",
    "\n"
   ]
  },
  {
   "cell_type": "markdown",
   "metadata": {},
   "source": [
    "# Exercise 3 "
   ]
  },
  {
   "cell_type": "code",
   "execution_count": 35,
   "metadata": {},
   "outputs": [
    {
     "name": "stdout",
     "output_type": "stream",
     "text": [
      "Average RMSE for 20 iterations: 1.46\n",
      "Average RMSE for 50 iterations: 0.89\n",
      "Average RMSE for 100 iterations: 0.74\n",
      "Average RMSE for 200 iterations: 0.70\n"
     ]
    }
   ],
   "source": [
    "\n",
    "# Specify the number of iterations (in terms of batches)\n",
    "num_iterations = [20, 50, 100, 200]\n",
    "\n",
    "# Initialize lists to store RMSE values for each number of iterations\n",
    "rmse_values = []\n",
    "\n",
    "for n_iterations in num_iterations:\n",
    "    # Perform 10 runs with different random states and assess the impact\n",
    "    random_states = range(1, 11)\n",
    "    rmse_iterations = []\n",
    "    \n",
    "    # Split the dataset into a training and test set with a fixed seed\n",
    "    X_train, X_test, y_train, y_test = train_test_split(X, y, test_size=0.2, random_state=random_state)\n",
    "    \n",
    "    for random_state in random_states:\n",
    "        \n",
    "        # Create an MLP Regressor with the specified number of iterations\n",
    "        mlp_regressor = MLPRegressor(hidden_layer_sizes=(10, 10), max_iter=n_iterations, \n",
    "                                     activation=activation ,random_state=random_state)\n",
    "\n",
    "        # Train the MLP regressor\n",
    "        mlp_regressor.fit(X_train, y_train)\n",
    "\n",
    "        # Make predictions\n",
    "        y_pred = mlp_regressor.predict(X_test)\n",
    "\n",
    "        # Calculate RMSE\n",
    "        rmse = np.sqrt(np.mean((y_test-y_pred)**2))\n",
    "        \n",
    "        rmse_iterations.append(rmse)\n",
    "\n",
    "    # Calculate the average RMSE for the current number of iterations\n",
    "    average_rmse = np.mean(rmse_iterations)\n",
    "    rmse_values.append(average_rmse)\n",
    "\n",
    "# Print the RMSE values for different numbers of iterations\n",
    "for i, n_iterations in enumerate(num_iterations):\n",
    "    print(f\"Average RMSE for {n_iterations} iterations: {rmse_values[i]:.2f}\")\n"
   ]
  },
  {
   "cell_type": "markdown",
   "metadata": {},
   "source": [
    "# Exercise 4"
   ]
  },
  {
   "cell_type": "markdown",
   "metadata": {},
   "source": [
    "A lower RMSE value indicates a better fit of the model to the data, meaning that the model's predictions are closer to the actual values. Following the same logic, a higher RMSE suggests that the model's predictions are further from the actual values, indicating a less accurate model.\n",
    "\n",
    "By analyzing our results, we can see that the RMSE value is lower when we perform more iterations, meaning that the model is more accurate. This is because the model has more time to learn the patterns in the data, and thus it can make more accurate predictions.\n",
    "\n",
    "Now, early stopping can definitely impact the performance of the model, in both positive and negative ways.\n",
    "\n",
    "In the positive side, early stopping can prevent overfitting. Overfitting occurs when the model is too complex, and it starts to memorize the training data, instead of learning the general patterns. This can lead to a model that performs very well on the training data, but it performs poorly on the test data. Early stopping can prevent this from happening, by stopping the training process when the model starts to overfit.\n",
    "\n",
    "In the negative side, early stopping can prevent the model from reaching its full potential. If the number of iterations set for early stopping is too low, it may lead to underfitting. Early stopping can stop training before the model has fully converged, resulting in a suboptimal solution."
   ]
  }
 ],
 "metadata": {
  "kernelspec": {
   "display_name": "Python 3",
   "language": "python",
   "name": "python3"
  },
  "language_info": {
   "codemirror_mode": {
    "name": "ipython",
    "version": 3
   },
   "file_extension": ".py",
   "mimetype": "text/x-python",
   "name": "python",
   "nbconvert_exporter": "python",
   "pygments_lexer": "ipython3",
   "version": "3.11.5"
  }
 },
 "nbformat": 4,
 "nbformat_minor": 2
}
