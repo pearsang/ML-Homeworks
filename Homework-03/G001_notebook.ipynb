{
 "cells": [
  {
   "cell_type": "markdown",
   "metadata": {},
   "source": [
    "### Homework 03 - Programming and critical analysis (ist1102082, ist1103252)\n"
   ]
  },
  {
   "cell_type": "markdown",
   "metadata": {},
   "source": [
    "Exercise 1)\n",
    "Loading the data from the csv file and converting it into a dataframe"
   ]
  },
  {
   "cell_type": "code",
   "execution_count": 29,
   "metadata": {},
   "outputs": [],
   "source": [
    "# Import necessary libraries\n",
    "import pandas as pd\n",
    "import numpy as np\n",
    "import matplotlib.pyplot as plt\n",
    "from sklearn.model_selection import train_test_split\n",
    "from sklearn.neural_network import MLPRegressor\n",
    "from sklearn.metrics import mean_absolute_error\n",
    "\n",
    "df = pd.read_csv('winequality-red.csv', sep=';')\n",
    "df.head()\n",
    "\n",
    "X = df.drop('quality', axis=1)\n",
    "y = df['quality']\n",
    "\n"
   ]
  },
  {
   "cell_type": "markdown",
   "metadata": {},
   "source": [
    "Perform a Multi Layer Perceptron Regression using the given parameters"
   ]
  },
  {
   "cell_type": "code",
   "execution_count": 30,
   "metadata": {},
   "outputs": [],
   "source": [
    "# Set the MLPRegressor parameters\n",
    "activation = \"relu\"  # Rectified Linear Unit (ReLU) activation\n",
    "residuals = []\n",
    "\n",
    "# Perform 10 runs with different random states and collect residuals\n",
    "for random_state in range(1, 11):\n",
    "    # Split the dataset into a training and test set with a fixed seed\n",
    "    X_train, X_test, y_train, y_test = train_test_split(X, y, test_size=0.2, random_state=random_state)\n",
    "    \n",
    "    # Create an MLP Regressor with the specified parameters\n",
    "    mlp_regressor = MLPRegressor(hidden_layer_sizes=(10, 10), activation=activation, \n",
    "                                validation_fraction=0.2, random_state=random_state, max_iter=1000)\n",
    "    \n",
    "    # Train the MLP regressor\n",
    "    mlp_regressor.fit(X_train, y_train)\n",
    "    \n",
    "    # Make predictions\n",
    "    y_pred = mlp_regressor.predict(X_test)\n",
    "    \n",
    "    # Calculate residuals (absolute errors)\n",
    "    residuals.extend(np.abs(y_test - y_pred))\n"
   ]
  },
  {
   "cell_type": "markdown",
   "metadata": {},
   "source": [
    "##### Plot the distribution of residuals using a histogram"
   ]
  },
  {
   "cell_type": "code",
   "execution_count": 31,
   "metadata": {},
   "outputs": [
    {
     "data": {
      "image/png": "[encoded data removed]",
      "text/plain": [
       "<Figure size 640x480 with 1 Axes>"
      ]
     },
     "metadata": {},
     "output_type": "display_data"
    }
   ],
   "source": [
    "# Plot the distribution of residuals using a histogram\n",
    "plt.hist(residuals, bins=20, edgecolor='k')\n",
    "plt.title(\"Distribution of the Residues\")\n",
    "plt.xlabel(\"Residues (Absolute Value)\")\n",
    "plt.ylabel(\"Frequency\")\n",
    "plt.show()"
   ]
  },
  {
   "cell_type": "markdown",
   "metadata": {},
   "source": [
    "Exercise 2)\n"
   ]
  },
  {
   "cell_type": "markdown",
   "metadata": {},
   "source": [
    "We will perform the regression again with the same parameters, but we will calculate the MAE (Mean Absolute Error) with and without rounding and bounding. For the bounds we have decided to go within an interval of (5, 6) and we will round to one decimal place."
   ]
  },
  {
   "cell_type": "code",
   "execution_count": 32,
   "metadata": {},
   "outputs": [
    {
     "name": "stdout",
     "output_type": "stream",
     "text": [
      "Average MAE without rounding and bounding: 0.7507365107837187\n",
      "Average MAE with rounding and bounding:  0.685\n"
     ]
    }
   ],
   "source": [
    "mae_round_bound = []    # Mean absolute error rounded and bounded\n",
    "mae = []                # Mean absolute error without rounding and bounding\n",
    "\n",
    "# Perform 10 runs with different random states and collect residuals\n",
    "for random_state in range(1, 11):\n",
    "    # Split the dataset into a training and test set with a fixed seed\n",
    "    X_train, X_test, y_train, y_test = train_test_split(X, y, test_size=0.2, random_state=random_state)\n",
    "    \n",
    "    # Create an MLP Regressor with the specified parameters\n",
    "    mlp_regressor = MLPRegressor(hidden_layer_sizes=(10, 10), activation=activation, \n",
    "                                validation_fraction=0.2, random_state=random_state, max_iter=1000)\n",
    "    \n",
    "    # Train the MLP regressor\n",
    "    mlp_regressor.fit(X_train, y_train)\n",
    "    \n",
    "    mae.append(mean_absolute_error(y_test, y_pred))\n",
    "    \n",
    "    ## Round and Bound\n",
    "    round_pred = np.round(y_pred)\n",
    "    y_pred_round_bound = np.clip(round_pred, 5, 6)\n",
    "    mae_round_bound.append(mean_absolute_error(y_test, y_pred_round_bound))\n",
    "    \n",
    "    # Make predictions\n",
    "    y_pred = mlp_regressor.predict(X_test)\n",
    "    \n",
    "    # Calculate residuals (absolute errors)\n",
    "    residuals.extend(np.abs(y_test - y_pred))\n",
    "    \n",
    "print(\"Average MAE without rounding and bounding:\", np.mean(mae))\n",
    "print(\"Average MAE with rounding and bounding: \", np.mean(mae_round_bound))"
   ]
  },
  {
   "cell_type": "markdown",
   "metadata": {},
   "source": []
  }
 ],
 "metadata": {
  "kernelspec": {
   "display_name": "Python 3",
   "language": "python",
   "name": "python3"
  },
  "language_info": {
   "codemirror_mode": {
    "name": "ipython",
    "version": 3
   },
   "file_extension": ".py",
   "mimetype": "text/x-python",
   "name": "python",
   "nbconvert_exporter": "python",
   "pygments_lexer": "ipython3",
   "version": "3.10.11"
  }
 },
 "nbformat": 4,
 "nbformat_minor": 2
}
